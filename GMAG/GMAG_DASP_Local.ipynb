{
  "cells": [
    {
      "cell_type": "markdown",
      "metadata": {
        "id": "z11i77M5QZQY"
      },
      "source": [
        "# GMAG Local DASP Tutorial\n",
        "\n",
        "This note books is the same as the Colab notebook but assumes you have GMAG installed locally.\n",
        "\n",
        "Installation instructions can be found [here](https://github.com/kylermurphy/DASP_2024/tree/main/GMAG#gmag-installation).\n"
      ]
    },
    {
      "cell_type": "markdown",
      "metadata": {
        "id": "Ed_vpED2dYci"
      },
      "source": [
        "Check if we can load GMAG"
      ]
    },
    {
      "cell_type": "code",
      "execution_count": null,
      "metadata": {
        "colab": {
          "base_uri": "https://localhost:8080/"
        },
        "id": "X50RcMKgcaEX",
        "outputId": "c7c818f2-d139-40e9-8fed-67d0eb08110b"
      },
      "outputs": [],
      "source": [
        "import gmag.config as config\n",
        "\n",
        "config_path = config.get_config_file()\n",
        "print(f'Path to the gmag config file: {config_path}')\n"
      ]
    },
    {
      "cell_type": "markdown",
      "metadata": {
        "id": "L8BySSA1dtoJ"
      },
      "source": [
        "## Start of the DASP GMAG Tutorial"
      ]
    },
    {
      "cell_type": "markdown",
      "metadata": {
        "id": "kDZfjXlDdpY7"
      },
      "source": [
        "# GMAG\n",
        "\n",
        "```gmag``` is an open-source Python library which provides rapid access to ground-based magnetometer data from several array in a common data format.\n",
        "\n",
        "- [GMAG paper](https://www.frontiersin.org/articles/10.3389/fspas.2022.1005061/full)\n",
        "- [GMAG Website/Docs](https://kylermurphy.github.io/gmag/)\n",
        "- [GMAG repository](https://github.com/kylermurphy/gmag)\n",
        "\n",
        "Why magnetometers?\n",
        "- Their a unique data set in Heliophysics\n",
        " - One of the few [globally distributed data sets](https://kylermurphy.github.io/gmag/stations)\n",
        " - One of the few [long term data sets](https://doi.org/10.1016/j.jastp.2011.02.018) - span multiple solar cycles\n",
        "- They can probe various ionosphere and magnetosphere phenomena\n",
        " - [Radiation belts](https://doi.org/10.1038/nphys3799)\n",
        " - [Aurora](https://doi.org/10.1002/2013JA018889)\n",
        " - [Substorms](https://doi.org/10.1002/2013JA018979)\n",
        " - [ULF waves](https://agupubs.onlinelibrary.wiley.com/doi/full/10.1029/2005JA011007)\n",
        "\n",
        "Why was ```gmag``` developed?\n",
        "- I wanted to take advantage of global magnetometer measurements for both case studies and statistical studies.\n",
        "  - required code to read data from multiple providers into a common data format\n",
        "- I wanted access to cool Python code.\n",
        "- I wanted to move away from IDL (expensive, falling behind or at the very least trailing very far).\n",
        "\n",
        "Why ```gmag``` when other resources exist?\n",
        "- GMAG downloads data from the source which can provide **upto date** and **higher cadence** data\n",
        "- GMAG is **light weight**\n",
        "- GMAG uses **Pandas DataFrames which work well within the Python framework** and with analysis (numpy, scipy), plotting (matplotlib, seaborn), and machine learnging (sck-kit learn) packages."
      ]
    },
    {
      "cell_type": "markdown",
      "metadata": {
        "id": "lRhdXNlqP8Bb"
      },
      "source": [
        "## Loading Data\n",
        "\n",
        "```gmag``` is primarily for loading data. Though it will also load station and array meta data, rotate the data into geomagnetic coordinates, and do some very basic cleaning of the data.\n",
        "\n",
        "**Lets load plot some CARISMA data.**\n",
        "\n",
        "\n"
      ]
    },
    {
      "cell_type": "code",
      "execution_count": null,
      "metadata": {
        "id": "iuKI3hKYx7du"
      },
      "outputs": [],
      "source": [
        "from IPython.core.interactiveshell import InteractiveShell\n",
        "InteractiveShell.ast_node_interactivity = \"all\""
      ]
    },
    {
      "cell_type": "code",
      "execution_count": null,
      "metadata": {
        "colab": {
          "base_uri": "https://localhost:8080/"
        },
        "id": "eWPUySqYcdZl",
        "outputId": "44f65418-252e-4f80-be43-be55365040a0"
      },
      "outputs": [],
      "source": [
        "# Plot multi-panel plot of the H compoment\n",
        "# magnetic field for select CARSIMA stations\n",
        "\n",
        "# import required modules\n",
        "import gmag.arrays.carisma as carisma\n",
        "\n",
        "# define start and end date for loading\n",
        "# assume a single day is loaded\n",
        "sdate = '2014-11-05 13:25:00'\n",
        "edate = '2014-11-05 14:25:00'\n",
        "\n",
        "stn = ['PINA','ISLL','GILL','FCHU','RANK']\n",
        "\n",
        "# load the data and meta data\n",
        "car_dat, car_meta=carisma.load(stn,sdate)\n"
      ]
    },
    {
      "cell_type": "markdown",
      "metadata": {
        "id": "4l60cgjXTXyh"
      },
      "source": [
        "**Lets have a look at the data**"
      ]
    },
    {
      "cell_type": "code",
      "execution_count": null,
      "metadata": {
        "colab": {
          "base_uri": "https://localhost:8080/",
          "height": 1000
        },
        "id": "WJw6FJOwTWdu",
        "outputId": "ef60bac1-c7c8-4fc3-cd22-ba9f1ffc6f8f"
      },
      "outputs": [],
      "source": [
        "car_dat\n",
        "car_meta"
      ]
    },
    {
      "cell_type": "markdown",
      "metadata": {
        "id": "qK7PhK-K-K-M"
      },
      "source": [
        "```gmag``` loads the raw data, rotates it (if required), and also loads the station metadata.\n",
        "\n",
        "The metadata stores the array and station code, station coordinates, cadence, the data coordinates, PI and Institution.\n",
        "\n",
        "## Accessing Data\n",
        "\n",
        "The data and metadata are loaded in a [Pandas DataFrame](https://pandas.pydata.org/docs/index.html).\n",
        "- [10 minutes to Pandas](https://pandas.pydata.org/docs/user_guide/10min.html#)\n",
        "- [Pandas DataFrame](https://pandas.pydata.org/docs/user_guide/dsintro.html#dataframe)\n",
        "- [Get Item](https://pandas.pydata.org/docs/user_guide/10min.html#getitem)\n",
        "- [Selection by label](https://pandas.pydata.org/docs/user_guide/10min.html#selection-by-label)\n",
        "- [Selection by position](https://pandas.pydata.org/docs/user_guide/10min.html#selection-by-position)\n",
        "- [Boolean Indexing](https://pandas.pydata.org/docs/user_guide/10min.html#boolean-indexing) & [masking](https://pandas.pydata.org/docs/user_guide/indexing.html#the-where-method-and-masking)\n",
        "\n"
      ]
    },
    {
      "cell_type": "code",
      "execution_count": null,
      "metadata": {
        "colab": {
          "base_uri": "https://localhost:8080/",
          "height": 1000
        },
        "id": "X289mcXOi7xb",
        "outputId": "276112e0-03dd-4a2c-9b91-ef191778fe2e"
      },
      "outputs": [],
      "source": [
        "# Get Item\n",
        "# Accessing by label/column name\n",
        "car_dat['PINA_H']\n",
        "car_dat[['PINA_H','PINA_D']]\n",
        "\n",
        "# Accessing by location, still require labels\n",
        "car_dat.loc['2014-11-05 01:00:00','GILL_D']\n",
        "\n",
        "# Accessing by position, like an array\n",
        "\n",
        "car_dat.iloc[:,-3:-1]\n",
        "\n",
        "# note the index here is a DateTime object\n",
        "# to make it more like an array reset the index\n",
        "car_dat.reset_index().iloc[0:10,0:2]"
      ]
    },
    {
      "cell_type": "code",
      "execution_count": null,
      "metadata": {
        "colab": {
          "base_uri": "https://localhost:8080/",
          "height": 262
        },
        "id": "vIOuSKoft7kS",
        "outputId": "fafe098f-c089-4969-cbf8-7d834c6bb415"
      },
      "outputs": [],
      "source": [
        "# Boolean Indexing\n",
        "# only get indexed values where\n",
        "car_meta[car_meta['cgm_latitude']>60]\n"
      ]
    },
    {
      "cell_type": "code",
      "execution_count": null,
      "metadata": {
        "colab": {
          "base_uri": "https://localhost:8080/",
          "height": 268
        },
        "id": "wLNntLUIuXpI",
        "outputId": "058b7d7e-77fa-44b8-e821-174cb02877e4"
      },
      "outputs": [],
      "source": [
        "# Masking\n",
        "# Only print where indexing is true\n",
        "lat_mask = (car_meta['latitude'] > 53) & (car_meta['latitude'] < 57)\n",
        "lat_mask\n",
        "car_meta[lat_mask]"
      ]
    },
    {
      "cell_type": "markdown",
      "metadata": {
        "id": "xtnJdAYcT9Jv"
      },
      "source": [
        "\n",
        "\n",
        "```gmag``` can load data from [12 arrays](https://kylermurphy.github.io/gmag/arrays) (just over 200 magnetometer stations). Data from these arrays are loaded using the ```load()``` function from the ```array``` subpackage in 4 different modules.\n",
        "\n",
        "```python\n",
        "#array sub modules\n",
        "import gmag.arrays.carisma as carisma\n",
        "import gmag.arrays.canopus as canopus\n",
        "import gmag.arrays.image as image\n",
        "import gmag.arrays.themis as themis\n",
        "```\n",
        "\n",
        "All the load functions have the same basic format\n",
        "\n",
        "```python\n",
        "load(site: str = ['GILL'],\n",
        "         sdate='2010-01-01',\n",
        "         ndays: int = 1,\n",
        "         edate=None,\n",
        "         dl=True,\n",
        "         force=False):    \n",
        "```\n",
        "\n",
        "You can access the doc string for each module using ```?``` or ```help(array.module)```\n"
      ]
    },
    {
      "cell_type": "code",
      "execution_count": null,
      "metadata": {
        "id": "L9D89pwkWg59"
      },
      "outputs": [],
      "source": [
        "carisma.load?"
      ]
    },
    {
      "cell_type": "markdown",
      "metadata": {
        "id": "gWA6eYVZXtrf"
      },
      "source": [
        "### Exercise 1\n",
        "\n",
        "Try loading CARISMA data from 2018 and 2023.\n",
        "Do you notice a difference between the two datasets? For simplicity the Gillam station (GILL) on January 1 from each year."
      ]
    },
    {
      "cell_type": "code",
      "execution_count": null,
      "metadata": {
        "id": "xiBAdfqgXtAY"
      },
      "outputs": [],
      "source": [
        "# load GILL data from 2018-01-01 and 2023-01-01"
      ]
    },
    {
      "cell_type": "markdown",
      "metadata": {
        "id": "6sXXNy2MYLfE"
      },
      "source": [
        "### Solution"
      ]
    },
    {
      "cell_type": "code",
      "execution_count": null,
      "metadata": {
        "colab": {
          "base_uri": "https://localhost:8080/"
        },
        "id": "Tu8VeCfLYVdn",
        "outputId": "246321be-dcf0-4313-dc0d-a741b9af30bc"
      },
      "outputs": [],
      "source": [
        "d1 = carisma.load('GILL',sdate='2018-01-01')\n",
        "d2 = carisma.load('GILL',sdate='2023-01-01')"
      ]
    },
    {
      "cell_type": "code",
      "execution_count": null,
      "metadata": {
        "colab": {
          "base_uri": "https://localhost:8080/",
          "height": 458
        },
        "id": "Zwy-VuCFYnom",
        "outputId": "d9d14821-6870-4219-fcf9-b3a447e341a4"
      },
      "outputs": [],
      "source": [
        "# note the difference here\n",
        "# because I used\n",
        "# d1 = carisma.load('GILL',sdate='2018-01-01')\n",
        "# the data and metadata are returned as a tuple\n",
        "# the first element is the data, and second the meta data\n",
        "\n",
        "d1[0].head()\n",
        "d2[0].head()"
      ]
    },
    {
      "cell_type": "markdown",
      "metadata": {
        "id": "t82yMXXVY7nX"
      },
      "source": [
        "## Rotating Data\n",
        "\n",
        "```gmag``` rotates data from geographic North-East-South (X-Y-Z) to geomagnetic North-East-South (H-D-Z) when it can.\n",
        "\n",
        "This requires the magnetic declination of the stations. geomagnetic coordinates. These are located in text files seperated by year ```gmag/gmag/Stations/xxxx_station_cgm.txt```.\n",
        "\n",
        "These text files have been generated for 1990-2019 (inclusively) and haven't been generated for the 2020's yet (working progress).\n",
        "\n",
        "**Data loaded via the ```themis``` module has undergone extensive processing and is typically returned in local geomagnetic coordinates (HDZ) and so is not rotated when loaded.**\n",
        "\n",
        "\n"
      ]
    },
    {
      "cell_type": "markdown",
      "metadata": {
        "id": "o6BI-gGPbDN5"
      },
      "source": [
        "### Utilities\n",
        "\n",
        "The ```utils``` module provides a number of routines to load station and array information including geographic and geomagnetic coordinates of all the stations.\n",
        "\n",
        "These are useful for identifying magnetometer stations apart of particular array, or physical location."
      ]
    },
    {
      "cell_type": "code",
      "execution_count": null,
      "metadata": {
        "colab": {
          "base_uri": "https://localhost:8080/",
          "height": 206
        },
        "id": "3omcqQT0dizy",
        "outputId": "940ebe61-1ac6-48b6-8ceb-371b5d6853ba"
      },
      "outputs": [],
      "source": [
        "from gmag import utils\n",
        "\n",
        "#load geographic data for all stations\n",
        "all_stn = utils.load_station_geo(param='*')\n",
        "all_stn.head()\n"
      ]
    },
    {
      "cell_type": "code",
      "execution_count": null,
      "metadata": {
        "colab": {
          "base_uri": "https://localhost:8080/",
          "height": 206
        },
        "id": "3cDl4YZ4eUJ1",
        "outputId": "0223a8eb-e51b-41ea-a98f-401c2dc8b071"
      },
      "outputs": [],
      "source": [
        "# load geomagnetic data for all stations\n",
        "# requires a year\n",
        "all_stn = utils.load_station_coor(param='*',year=2018)\n",
        "all_stn.tail()"
      ]
    },
    {
      "cell_type": "markdown",
      "metadata": {
        "id": "iU468HeGfOAn"
      },
      "source": [
        "The ```utils``` functions also return a Pandas DataFrame which can be easily masked to identify key station characteristics."
      ]
    },
    {
      "cell_type": "code",
      "execution_count": null,
      "metadata": {
        "colab": {
          "base_uri": "https://localhost:8080/",
          "height": 927
        },
        "id": "4wIPd48jexmU",
        "outputId": "24b8c8d1-11ad-4763-f8e4-cd626c0fc86a"
      },
      "outputs": [],
      "source": [
        "# print all CARISMA data\n",
        "car_pos = all_stn['array'] == 'CARISMA'\n",
        "all_stn[car_pos]"
      ]
    },
    {
      "cell_type": "markdown",
      "metadata": {
        "id": "7BgY3dj_fdXO"
      },
      "source": [
        "### Exercise 2\n",
        "\n",
        "Identify all magnetometer stations around geosynchronous orbit, say 6.25 < L < 6.75."
      ]
    },
    {
      "cell_type": "code",
      "execution_count": null,
      "metadata": {
        "id": "U53MEyg8gJiy"
      },
      "outputs": [],
      "source": [
        "# put your code here"
      ]
    },
    {
      "cell_type": "markdown",
      "metadata": {
        "id": "-nkpL4R9gQt3"
      },
      "source": [
        "### Solution"
      ]
    },
    {
      "cell_type": "code",
      "execution_count": null,
      "metadata": {
        "colab": {
          "base_uri": "https://localhost:8080/",
          "height": 394
        },
        "id": "34T_FrHPgK-P",
        "outputId": "2bb51f2d-8805-4488-b19d-dc54f78bbb14"
      },
      "outputs": [],
      "source": [
        "geo = (all_stn['lshell'] > 6.25) & (all_stn['lshell'] < 6.75)\n",
        "all_stn[geo]"
      ]
    },
    {
      "cell_type": "markdown",
      "metadata": {
        "id": "sIV2Jk4QXdwj"
      },
      "source": [
        "## Plotting Data\n",
        "\n",
        "Because ```gmag``` uses Pandas DataFrames plotting is relatively quick and generating nice plots is relatively easy. It even inherently handles time-series plotting quite nicely (formatted time axis).\n",
        "\n",
        "[Pandas Visualization](https://pandas.pydata.org/docs/user_guide/visualization.html)\n",
        "\n",
        "[Pandas DataFrame Plotting](https://pandas.pydata.org/docs/reference/frame.html#plotting)\n",
        "\n",
        "A simple plot"
      ]
    },
    {
      "cell_type": "code",
      "execution_count": null,
      "metadata": {
        "colab": {
          "base_uri": "https://localhost:8080/"
        },
        "id": "aLD_wmHZtYun",
        "outputId": "dcf12316-c125-423a-9023-2acf5bcce78f"
      },
      "outputs": [],
      "source": [
        "# import required modules\n",
        "import gmag.arrays.carisma as carisma\n",
        "import numpy as np\n",
        "import matplotlib.pyplot as plt\n",
        "\n",
        "# define start and end date for plotting\n",
        "# use start date for loading data\n",
        "sdate = '2014-11-05 13:25:00'\n",
        "edate = '2014-11-05 14:25:00'\n",
        "\n",
        "# load data\n",
        "car_dat, car_meta=carisma.load(['PINA','ISLL','GILL','FCHU','RANK'],sdate)\n",
        "\n"
      ]
    },
    {
      "cell_type": "code",
      "execution_count": null,
      "metadata": {
        "colab": {
          "base_uri": "https://localhost:8080/",
          "height": 487
        },
        "id": "zlBQ3LbMuQPC",
        "outputId": "ffb51e56-0eb4-48a8-e619-42f784c082a4"
      },
      "outputs": [],
      "source": [
        "car_dat['GILL_H'].plot()\n",
        "#car_dat.plot(y=['GILL_H','FCHU_H','ISLL_H','PINA_H'])\n",
        "#car_dat.plot(y=['GILL_H','FCHU_H','ISLL_H','PINA_H'],subplots=True,ylabel='nT')"
      ]
    },
    {
      "cell_type": "markdown",
      "metadata": {
        "id": "wA4CIbC1tdTS"
      },
      "source": [
        "A more complex plot"
      ]
    },
    {
      "cell_type": "code",
      "execution_count": null,
      "metadata": {
        "colab": {
          "base_uri": "https://localhost:8080/",
          "height": 907
        },
        "id": "Bknp4GBzcx_l",
        "outputId": "302f70a2-0373-468c-df59-26a169cbd36a"
      },
      "outputs": [],
      "source": [
        "# plot a stacked plot of CARISMA the H component\n",
        "# magnetic field for stations along the Churchill line\n",
        "\n",
        "# define component for plotting\n",
        "comp='H'\n",
        "\n",
        "# find the columns from the loaded DataFrame that have comp\n",
        "# in the title, these are the columns that will be plotted\n",
        "p_col = [col for col in car_dat.columns if col[-1] == comp]\n",
        "\n",
        "# determine the shift to apply to each time series so that they don't\n",
        "# overlatp\n",
        "\n",
        "# the shift is determined using the DataFrame returned by the describe()\n",
        "# method which stores the DataFrame stats including max and min of each column\n",
        "# only use columns from p_col and values between the start and end of plotting\n",
        "# defined by sdate and edate\n",
        "# the shift in the y direction is defined by 1.5 times the range of the series\n",
        "y_shift = np.array([(val['max']-val['min'])/1.5 for col_h, val in car_dat[sdate:edate][p_col].describe().items()])\n",
        "\n",
        "# the cumsum() method determines the cumalitative sum up\n",
        "# to each index\n",
        "# the cumsum() ensures timeseries don't overlap\n",
        "y_shift = (y_shift-y_shift.min()).cumsum()\n",
        "\n",
        "# plot p_col columns of the data frame between sdate and edate\n",
        "# subtract the mean from each time series and apply the y-shit\n",
        "car_dat[sdate:edate][p_col].subtract(car_dat[sdate:edate][p_col].mean()-y_shift).plot(ylabel='nT', xlabel='Time - UT',\n",
        "                                                            figsize=[6,10])\n",
        "plt.title(sdate[0:11]+' ULF Wave')"
      ]
    },
    {
      "cell_type": "markdown",
      "metadata": {
        "id": "T5DOOOSNubgl"
      },
      "source": [
        "## Analysis\n",
        "\n",
        "Python offers the widest range of analysis tools for your research and has a huge community to help address problems.\n",
        "\n",
        "- Basic Anlaysis\n",
        "  - [Numpy](https://numpy.org/)\n",
        "  - [SciPy](https://scipy.org/)\n",
        "- More complex and Machine Learning\n",
        "  - [Scikit-learn](https://scikit-learn.org/)\n",
        "  - [Tensor Flow](https://www.tensorflow.org/)\n",
        "  - [PyTorch](https://pytorch.org/)\n",
        "  - [Keras](https://keras.io/)\n",
        "- Heliophysics\n",
        "  - [PyHC](https://heliopython.org/)\n",
        "  - [Astropy](https://www.astropy.org/index.html)\n",
        "  - [Sunpy](https://sunpy.org/)\n",
        "  - [SpacePy](https://spacepy.github.io/index.html)\n",
        "  - [pySPEDAS](https://pyspedas.readthedocs.io/en/latest/getting_started.html)\n",
        "  - [plasmapy](https://docs.plasmapy.org/en/stable/)\n",
        "  - [pysat](https://pysat.readthedocs.io/en/latest/introduction.html)\n",
        "  - [AACGM](https://aacgmv2.readthedocs.io/en/latest/)\n",
        "  - [CDFlib](https://github.com/MAVENSDC/cdflib)\n",
        "  - [geopack](https://github.com/tsssss/geopack/blob/master/README.md)\n",
        "  - [IGRF](https://github.com/space-physics/igrf)\n",
        "  - [PyDarn](https://superdarn.ca/pydarn)"
      ]
    },
    {
      "cell_type": "markdown",
      "metadata": {
        "id": "RVsGEUgC2SeG"
      },
      "source": [
        "### Filtering\n",
        "\n",
        "Let try some simple filtering using SciPy (from [Scipy-cookbook](https://scipy-cookbook.readthedocs.io/index.html) and [stackoverflow](https://stackoverflow.com/questions/12093594/how-to-implement-band-pass-butterworth-filter-with-scipy-signal-butter))"
      ]
    },
    {
      "cell_type": "code",
      "execution_count": null,
      "metadata": {
        "id": "zJmC_tSe4NeD"
      },
      "outputs": [],
      "source": [
        "# import scipy functions\n",
        "from scipy.signal import butter, sosfilt\n",
        "\n",
        "# define a bandpass butterwork filter\n",
        "# low and high cutoff frequencies\n",
        "# fs sampling rate (same units as )\n",
        "def butter_bandpass(lowcut, highcut, fs, order=5):\n",
        "    nyq = 0.5 * fs\n",
        "    low = lowcut / nyq\n",
        "    high = highcut / nyq\n",
        "    sos = butter(order, [low, high], btype='band', output='sos')\n",
        "    return sos\n",
        "\n",
        "# define and filter the data\n",
        "def butter_bandpass_filter(data, lowcut, highcut, fs, order=5):\n",
        "    sos = butter_bandpass(lowcut, highcut, fs, order=order)\n",
        "    y = sosfilt(sos, data)\n",
        "    return y"
      ]
    },
    {
      "cell_type": "code",
      "execution_count": null,
      "metadata": {
        "colab": {
          "base_uri": "https://localhost:8080/",
          "height": 484
        },
        "id": "X23qUl6N5P_g",
        "outputId": "10b47a53-d049-457c-e80b-3afc7706d266"
      },
      "outputs": [],
      "source": [
        "# low and high perios in seconds\n",
        "# estimated from the figure above\n",
        "low_period = 250.\n",
        "high_period = 500.\n",
        "\n",
        "# low and high frequency cutoffs\n",
        "lowcut = 1./high_period\n",
        "highcut = 1./low_period\n",
        "\n",
        "# sampling frequency\n",
        "# 1/(Time Resolution)\n",
        "fs = 1./car_meta[car_meta['code']=='GILL']['Time Resolution']\n",
        "\n",
        "# Filter the data\n",
        "f_dat = butter_bandpass_filter(car_dat['GILL_H'], lowcut, highcut, fs,order=5)\n",
        "\n",
        "# Add the filtered data to our DataFrame\n",
        "car_dat['GILL_HF'] = f_dat\n",
        "\n",
        "# Plot the original and filtered data\n",
        "car_dat[sdate:edate].plot(y=['GILL_H','GILL_HF'],subplots=True,ylabel='nT')\n",
        "\n"
      ]
    },
    {
      "cell_type": "markdown",
      "metadata": {
        "id": "lKh-9rEYBkfT"
      },
      "source": [
        "### Exercise 3\n",
        "\n",
        "Use SciPy to identify the dominant frequency in the ULF wave plotted above. **Hint** use the SciPy periodogram function.\n",
        "\n",
        "Does the frequency content change as you look at different portions of the day (e.g., if use only data between 13:25-14:25 UT or the entire day)?"
      ]
    },
    {
      "cell_type": "code",
      "execution_count": null,
      "metadata": {
        "id": "MCjsVEoxBkTp"
      },
      "outputs": [],
      "source": []
    },
    {
      "cell_type": "markdown",
      "metadata": {
        "id": "LqP-hjFfDqoN"
      },
      "source": [
        "### Solution"
      ]
    },
    {
      "cell_type": "code",
      "execution_count": null,
      "metadata": {
        "colab": {
          "base_uri": "https://localhost:8080/",
          "height": 503
        },
        "id": "mvMqzcVoDt6R",
        "outputId": "83b540d2-39bf-4af7-d994-0cb53997e926"
      },
      "outputs": [],
      "source": [
        "from scipy.signal import periodogram\n",
        "fs = 1.\n",
        "fp, p_spec = periodogram(car_dat[sdate:edate]['GILL_H'], fs, scaling='density', detrend='constant', window='hann')\n",
        "\n",
        "plt.loglog(fp*1000,p_spec)\n",
        "\n",
        "print(f'Maximum Power - {p_spec.max()}')\n",
        "print(f'Frequency (mHz) of maximum power - {fp[p_spec.argmax()]*1000.}')\n",
        "print(f'Period (s) of maximum power - {1/fp[p_spec.argmax()]}')"
      ]
    }
  ],
  "metadata": {
    "colab": {
      "provenance": []
    },
    "kernelspec": {
      "display_name": "Python 3",
      "name": "python3"
    },
    "language_info": {
      "codemirror_mode": {
        "name": "ipython",
        "version": 3
      },
      "file_extension": ".py",
      "mimetype": "text/x-python",
      "name": "python",
      "nbconvert_exporter": "python",
      "pygments_lexer": "ipython3",
      "version": "3.10.13"
    }
  },
  "nbformat": 4,
  "nbformat_minor": 0
}
