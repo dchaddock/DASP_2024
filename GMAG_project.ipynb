{
 "cells": [
  {
   "cell_type": "markdown",
   "metadata": {},
   "source": [
    "# GMAG Projects\n",
    "\n",
    "This notebook contains a number of exercises and small projects that you can work on during the Project Time. \n",
    "\n",
    "Work in individually or in groups to work through these exercies. Use the notebooks presented earlier as a starting point for accessing and plotting data"
   ]
  },
  {
   "cell_type": "markdown",
   "metadata": {},
   "source": [
    "## Exercise 1\n",
    "\n",
    "Ground-based magnetometers are a near global dataset; however, data and observations are spread over several arrays. This requires researcher to load data from multiple arrays in order benefit from this global coverate.\n",
    "\n",
    "There is a small substorm between 05:15-06:45 UT on 6 June, 2005. Combine data from the THEMIS and CARISMA magnetometer arrays. \n",
    "\n",
    "Where does the peak perturbation in the H-, D-, and Z- magnetic field occur during the substorm?\n",
    "\n",
    "Are the largest pertubations in the H-component confined to a realtively fixed latitude? If so what latitude?\n",
    "\n",
    "You can place your code in the cell below. "
   ]
  },
  {
   "cell_type": "code",
   "execution_count": null,
   "metadata": {},
   "outputs": [],
   "source": [
    "# Exercise 1\n",
    "# Place your code here"
   ]
  },
  {
   "cell_type": "markdown",
   "metadata": {},
   "source": [
    "## Exercise 2\n",
    "\n",
    "There is large amplitude-short duration monochromatic Ultra-low Frequency wave observed by the CARISMA magnetometer array on 2012-10-31. \n",
    "\n",
    "Can you identify when and where the wave occurs? \n",
    "\n",
    "What is the dominant frequency of the wave and where does the wave amplitude peak?\n",
    "\n",
    "Excerise 2 [Hint](https://www.nature.com/articles/ncomms3795)\n",
    "\n",
    "You can place your code in the cell below.\n"
   ]
  },
  {
   "cell_type": "code",
   "execution_count": null,
   "metadata": {},
   "outputs": [],
   "source": [
    "# Excerise 2\n",
    "# place your code here"
   ]
  },
  {
   "cell_type": "markdown",
   "metadata": {},
   "source": [
    "## Exercise 3\n",
    "\n",
    "There is a long-lasting large-amplitude ULF wave observed by SuperDARN radars, in-situ satellites, and ground-based magnetometers between Jan 24-26 2016. On the ground the wave is very clearly observed by the SNKQ magnetometer.\n",
    "\n",
    "Use a [dynamic power spectra (dynamic fft or spectrogram)](https://en.wikipedia.org/wiki/Spectrogram) to show how the amplitude and frequency of the wave evolves with time. \n",
    "\n",
    "Exercise 2 [Hint](https://agupubs.onlinelibrary.wiley.com/doi/full/10.1029/2018JA026003)\n",
    "\n",
    "Exercise 2 bigger Hint - SciPy has a built in spectrogram function\n",
    "\n",
    "You can place your code in the cell below."
   ]
  },
  {
   "cell_type": "code",
   "execution_count": null,
   "metadata": {},
   "outputs": [],
   "source": [
    "# Exercise 3\n",
    "# place your code here"
   ]
  },
  {
   "cell_type": "code",
   "execution_count": null,
   "metadata": {},
   "outputs": [],
   "source": []
  }
 ],
 "metadata": {
  "language_info": {
   "name": "python"
  }
 },
 "nbformat": 4,
 "nbformat_minor": 2
}
